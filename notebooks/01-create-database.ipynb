{
 "cells": [
  {
   "cell_type": "code",
   "execution_count": 37,
   "metadata": {},
   "outputs": [],
   "source": [
    "import pandas as pd\n",
    "from sentence_transformers import SentenceTransformer\n",
    "import weaviate\n",
    "from weaviate.classes.init import Auth\n",
    "import weaviate.classes as wvc\n",
    "from weaviate.collections.classes.filters import Filter\n",
    "from tqdm import tqdm"
   ]
  },
  {
   "cell_type": "code",
   "execution_count": 31,
   "metadata": {},
   "outputs": [
    {
     "data": {
      "text/html": [
       "<div>\n",
       "<style scoped>\n",
       "    .dataframe tbody tr th:only-of-type {\n",
       "        vertical-align: middle;\n",
       "    }\n",
       "\n",
       "    .dataframe tbody tr th {\n",
       "        vertical-align: top;\n",
       "    }\n",
       "\n",
       "    .dataframe thead th {\n",
       "        text-align: right;\n",
       "    }\n",
       "</style>\n",
       "<table border=\"1\" class=\"dataframe\">\n",
       "  <thead>\n",
       "    <tr style=\"text-align: right;\">\n",
       "      <th></th>\n",
       "      <th>book</th>\n",
       "      <th>chapter</th>\n",
       "      <th>verse</th>\n",
       "      <th>latin</th>\n",
       "      <th>latin_clean</th>\n",
       "    </tr>\n",
       "  </thead>\n",
       "  <tbody>\n",
       "    <tr>\n",
       "      <th>0</th>\n",
       "      <td>1Cor</td>\n",
       "      <td>1</td>\n",
       "      <td>1</td>\n",
       "      <td>Paulus vocatus Apostolus Jesu Christi per volu...</td>\n",
       "      <td>paulus vocatus apostolus jesu christi per volu...</td>\n",
       "    </tr>\n",
       "    <tr>\n",
       "      <th>1</th>\n",
       "      <td>1Cor</td>\n",
       "      <td>1</td>\n",
       "      <td>2</td>\n",
       "      <td>ecclesiae Dei, quae est Corinthi, sanctificati...</td>\n",
       "      <td>ecclesiae dei quae est corinthi sanctificatis ...</td>\n",
       "    </tr>\n",
       "    <tr>\n",
       "      <th>2</th>\n",
       "      <td>1Cor</td>\n",
       "      <td>1</td>\n",
       "      <td>3</td>\n",
       "      <td>Gratia vobis, et pax a Deo Patre nostro, et Do...</td>\n",
       "      <td>gratia vobis et pax a deo patre nostro et domi...</td>\n",
       "    </tr>\n",
       "    <tr>\n",
       "      <th>3</th>\n",
       "      <td>1Cor</td>\n",
       "      <td>1</td>\n",
       "      <td>4</td>\n",
       "      <td>Gratias ago Deo meo semper pro vobis in gratia...</td>\n",
       "      <td>gratias ago deo meo semper pro vobis in gratia...</td>\n",
       "    </tr>\n",
       "    <tr>\n",
       "      <th>4</th>\n",
       "      <td>1Cor</td>\n",
       "      <td>1</td>\n",
       "      <td>5</td>\n",
       "      <td>quod in omnibus divites facti estis in illo, i...</td>\n",
       "      <td>quod in omnibus divites facti estis in illo in...</td>\n",
       "    </tr>\n",
       "    <tr>\n",
       "      <th>...</th>\n",
       "      <td>...</td>\n",
       "      <td>...</td>\n",
       "      <td>...</td>\n",
       "      <td>...</td>\n",
       "      <td>...</td>\n",
       "    </tr>\n",
       "    <tr>\n",
       "      <th>35804</th>\n",
       "      <td>Zach</td>\n",
       "      <td>14</td>\n",
       "      <td>17</td>\n",
       "      <td>Et erit: qui non ascenderit de familiis terrae...</td>\n",
       "      <td>et erit qui non ascenderit de familiis terrae ...</td>\n",
       "    </tr>\n",
       "    <tr>\n",
       "      <th>35805</th>\n",
       "      <td>Zach</td>\n",
       "      <td>14</td>\n",
       "      <td>18</td>\n",
       "      <td>Quod etsi familia Aegypti non ascenderit et no...</td>\n",
       "      <td>quod etsi familia aegypti non ascenderit et no...</td>\n",
       "    </tr>\n",
       "    <tr>\n",
       "      <th>35806</th>\n",
       "      <td>Zach</td>\n",
       "      <td>14</td>\n",
       "      <td>19</td>\n",
       "      <td>Hoc erit peccatum Aegypti, et hoc peccatum omn...</td>\n",
       "      <td>hoc erit peccatum aegypti et hoc peccatum omni...</td>\n",
       "    </tr>\n",
       "    <tr>\n",
       "      <th>35807</th>\n",
       "      <td>Zach</td>\n",
       "      <td>14</td>\n",
       "      <td>20</td>\n",
       "      <td>In die illa, erit quod super frenum equi est, ...</td>\n",
       "      <td>in die illa erit quod super frenum equi est sa...</td>\n",
       "    </tr>\n",
       "    <tr>\n",
       "      <th>35808</th>\n",
       "      <td>Zach</td>\n",
       "      <td>14</td>\n",
       "      <td>21</td>\n",
       "      <td>Et erit omnis lebes in Jerusalem et in Juda sa...</td>\n",
       "      <td>et erit omnis lebes in jerusalem et in juda sa...</td>\n",
       "    </tr>\n",
       "  </tbody>\n",
       "</table>\n",
       "<p>35809 rows × 5 columns</p>\n",
       "</div>"
      ],
      "text/plain": [
       "       book  chapter  verse  \\\n",
       "0      1Cor        1      1   \n",
       "1      1Cor        1      2   \n",
       "2      1Cor        1      3   \n",
       "3      1Cor        1      4   \n",
       "4      1Cor        1      5   \n",
       "...     ...      ...    ...   \n",
       "35804  Zach       14     17   \n",
       "35805  Zach       14     18   \n",
       "35806  Zach       14     19   \n",
       "35807  Zach       14     20   \n",
       "35808  Zach       14     21   \n",
       "\n",
       "                                                   latin  \\\n",
       "0      Paulus vocatus Apostolus Jesu Christi per volu...   \n",
       "1      ecclesiae Dei, quae est Corinthi, sanctificati...   \n",
       "2      Gratia vobis, et pax a Deo Patre nostro, et Do...   \n",
       "3      Gratias ago Deo meo semper pro vobis in gratia...   \n",
       "4      quod in omnibus divites facti estis in illo, i...   \n",
       "...                                                  ...   \n",
       "35804  Et erit: qui non ascenderit de familiis terrae...   \n",
       "35805  Quod etsi familia Aegypti non ascenderit et no...   \n",
       "35806  Hoc erit peccatum Aegypti, et hoc peccatum omn...   \n",
       "35807  In die illa, erit quod super frenum equi est, ...   \n",
       "35808  Et erit omnis lebes in Jerusalem et in Juda sa...   \n",
       "\n",
       "                                             latin_clean  \n",
       "0      paulus vocatus apostolus jesu christi per volu...  \n",
       "1      ecclesiae dei quae est corinthi sanctificatis ...  \n",
       "2      gratia vobis et pax a deo patre nostro et domi...  \n",
       "3      gratias ago deo meo semper pro vobis in gratia...  \n",
       "4      quod in omnibus divites facti estis in illo in...  \n",
       "...                                                  ...  \n",
       "35804  et erit qui non ascenderit de familiis terrae ...  \n",
       "35805  quod etsi familia aegypti non ascenderit et no...  \n",
       "35806  hoc erit peccatum aegypti et hoc peccatum omni...  \n",
       "35807  in die illa erit quod super frenum equi est sa...  \n",
       "35808  et erit omnis lebes in jerusalem et in juda sa...  \n",
       "\n",
       "[35809 rows x 5 columns]"
      ]
     },
     "execution_count": 31,
     "metadata": {},
     "output_type": "execute_result"
    }
   ],
   "source": [
    "df = pd.read_csv(\"../data/clem_vulgate.csv\")\n",
    "df"
   ]
  },
  {
   "cell_type": "code",
   "execution_count": 30,
   "metadata": {},
   "outputs": [
    {
     "data": {
      "application/vnd.jupyter.widget-view+json": {
       "model_id": "43798a04470f488f9222910fde12108d",
       "version_major": 2,
       "version_minor": 0
      },
      "text/plain": [
       "modules.json:   0%|          | 0.00/461 [00:00<?, ?B/s]"
      ]
     },
     "metadata": {},
     "output_type": "display_data"
    },
    {
     "data": {
      "application/vnd.jupyter.widget-view+json": {
       "model_id": "ff121b69424f49dcaacb2bc0db8f25d5",
       "version_major": 2,
       "version_minor": 0
      },
      "text/plain": [
       "config_sentence_transformers.json:   0%|          | 0.00/122 [00:00<?, ?B/s]"
      ]
     },
     "metadata": {},
     "output_type": "display_data"
    },
    {
     "data": {
      "application/vnd.jupyter.widget-view+json": {
       "model_id": "7820efc580bc472c82836a983a5754e3",
       "version_major": 2,
       "version_minor": 0
      },
      "text/plain": [
       "README.md:   0%|          | 0.00/2.22k [00:00<?, ?B/s]"
      ]
     },
     "metadata": {},
     "output_type": "display_data"
    },
    {
     "data": {
      "application/vnd.jupyter.widget-view+json": {
       "model_id": "3b3c423ac69a48309506caad17354382",
       "version_major": 2,
       "version_minor": 0
      },
      "text/plain": [
       "sentence_bert_config.json:   0%|          | 0.00/53.0 [00:00<?, ?B/s]"
      ]
     },
     "metadata": {},
     "output_type": "display_data"
    },
    {
     "name": "stderr",
     "output_type": "stream",
     "text": [
      "/Applications/anaconda3/envs/tap/lib/python3.10/site-packages/huggingface_hub/file_download.py:1132: FutureWarning: `resume_download` is deprecated and will be removed in version 1.0.0. Downloads always resume when possible. If you want to force a new download, use `force_download=True`.\n",
      "  warnings.warn(\n"
     ]
    },
    {
     "data": {
      "application/vnd.jupyter.widget-view+json": {
       "model_id": "de6dc85b203e44ee8881fb2a6eac148d",
       "version_major": 2,
       "version_minor": 0
      },
      "text/plain": [
       "config.json:   0%|          | 0.00/804 [00:00<?, ?B/s]"
      ]
     },
     "metadata": {},
     "output_type": "display_data"
    },
    {
     "data": {
      "application/vnd.jupyter.widget-view+json": {
       "model_id": "03d6cd4676a749fba648383f3488193d",
       "version_major": 2,
       "version_minor": 0
      },
      "text/plain": [
       "pytorch_model.bin:   0%|          | 0.00/1.88G [00:00<?, ?B/s]"
      ]
     },
     "metadata": {},
     "output_type": "display_data"
    },
    {
     "name": "stderr",
     "output_type": "stream",
     "text": [
      "/Applications/anaconda3/envs/tap/lib/python3.10/site-packages/transformers/modeling_utils.py:519: FutureWarning: You are using `torch.load` with `weights_only=False` (the current default value), which uses the default pickle module implicitly. It is possible to construct malicious pickle data which will execute arbitrary code during unpickling (See https://github.com/pytorch/pytorch/blob/main/SECURITY.md#untrusted-models for more details). In a future release, the default value for `weights_only` will be flipped to `True`. This limits the functions that could be executed during unpickling. Arbitrary objects will no longer be allowed to be loaded via this mode unless they are explicitly allowlisted by the user via `torch.serialization.add_safe_globals`. We recommend you start setting `weights_only=True` for any use case where you don't have full control of the loaded file. Please open an issue on GitHub for any issues related to this experimental feature.\n",
      "  return torch.load(checkpoint_file, map_location=map_location)\n"
     ]
    },
    {
     "data": {
      "application/vnd.jupyter.widget-view+json": {
       "model_id": "7750c3587d374ef3996dab60df924797",
       "version_major": 2,
       "version_minor": 0
      },
      "text/plain": [
       "tokenizer_config.json:   0%|          | 0.00/397 [00:00<?, ?B/s]"
      ]
     },
     "metadata": {},
     "output_type": "display_data"
    },
    {
     "data": {
      "application/vnd.jupyter.widget-view+json": {
       "model_id": "c54f14803a734e7ea528f673a83d8586",
       "version_major": 2,
       "version_minor": 0
      },
      "text/plain": [
       "vocab.txt:   0%|          | 0.00/5.22M [00:00<?, ?B/s]"
      ]
     },
     "metadata": {},
     "output_type": "display_data"
    },
    {
     "data": {
      "application/vnd.jupyter.widget-view+json": {
       "model_id": "3a1f9165743a41119b1f9de586eab9a5",
       "version_major": 2,
       "version_minor": 0
      },
      "text/plain": [
       "tokenizer.json:   0%|          | 0.00/9.62M [00:00<?, ?B/s]"
      ]
     },
     "metadata": {},
     "output_type": "display_data"
    },
    {
     "data": {
      "application/vnd.jupyter.widget-view+json": {
       "model_id": "2fed970831a34209b9b95b351a9f9bd5",
       "version_major": 2,
       "version_minor": 0
      },
      "text/plain": [
       "special_tokens_map.json:   0%|          | 0.00/112 [00:00<?, ?B/s]"
      ]
     },
     "metadata": {},
     "output_type": "display_data"
    },
    {
     "data": {
      "application/vnd.jupyter.widget-view+json": {
       "model_id": "6233fd4139264bed8fb47ea5484885d3",
       "version_major": 2,
       "version_minor": 0
      },
      "text/plain": [
       "1_Pooling/config.json:   0%|          | 0.00/190 [00:00<?, ?B/s]"
      ]
     },
     "metadata": {},
     "output_type": "display_data"
    },
    {
     "data": {
      "application/vnd.jupyter.widget-view+json": {
       "model_id": "c95323b728f243b897b6a31f06ed109e",
       "version_major": 2,
       "version_minor": 0
      },
      "text/plain": [
       "2_Dense/config.json:   0%|          | 0.00/114 [00:00<?, ?B/s]"
      ]
     },
     "metadata": {},
     "output_type": "display_data"
    },
    {
     "data": {
      "application/vnd.jupyter.widget-view+json": {
       "model_id": "0de46dfc80bd4fd9a6d26585b1745ece",
       "version_major": 2,
       "version_minor": 0
      },
      "text/plain": [
       "pytorch_model.bin:   0%|          | 0.00/2.36M [00:00<?, ?B/s]"
      ]
     },
     "metadata": {},
     "output_type": "display_data"
    },
    {
     "name": "stderr",
     "output_type": "stream",
     "text": [
      "/Applications/anaconda3/envs/tap/lib/python3.10/site-packages/sentence_transformers/models/Dense.py:89: FutureWarning: You are using `torch.load` with `weights_only=False` (the current default value), which uses the default pickle module implicitly. It is possible to construct malicious pickle data which will execute arbitrary code during unpickling (See https://github.com/pytorch/pytorch/blob/main/SECURITY.md#untrusted-models for more details). In a future release, the default value for `weights_only` will be flipped to `True`. This limits the functions that could be executed during unpickling. Arbitrary objects will no longer be allowed to be loaded via this mode unless they are explicitly allowlisted by the user via `torch.serialization.add_safe_globals`. We recommend you start setting `weights_only=True` for any use case where you don't have full control of the loaded file. Please open an issue on GitHub for any issues related to this experimental feature.\n",
      "  torch.load(os.path.join(input_path, \"pytorch_model.bin\"), map_location=torch.device(\"cpu\"))\n"
     ]
    }
   ],
   "source": [
    "model = SentenceTransformer('sentence-transformers/LaBSE')\n",
    "embeddings = model.encode(df.latin.tolist())"
   ]
  },
  {
   "cell_type": "code",
   "execution_count": 32,
   "metadata": {},
   "outputs": [],
   "source": [
    "df[\"embedding\"] = list(embeddings)"
   ]
  },
  {
   "cell_type": "code",
   "execution_count": 33,
   "metadata": {},
   "outputs": [
    {
     "data": {
      "text/html": [
       "<div>\n",
       "<style scoped>\n",
       "    .dataframe tbody tr th:only-of-type {\n",
       "        vertical-align: middle;\n",
       "    }\n",
       "\n",
       "    .dataframe tbody tr th {\n",
       "        vertical-align: top;\n",
       "    }\n",
       "\n",
       "    .dataframe thead th {\n",
       "        text-align: right;\n",
       "    }\n",
       "</style>\n",
       "<table border=\"1\" class=\"dataframe\">\n",
       "  <thead>\n",
       "    <tr style=\"text-align: right;\">\n",
       "      <th></th>\n",
       "      <th>book</th>\n",
       "      <th>chapter</th>\n",
       "      <th>verse</th>\n",
       "      <th>latin</th>\n",
       "      <th>latin_clean</th>\n",
       "      <th>embedding</th>\n",
       "    </tr>\n",
       "  </thead>\n",
       "  <tbody>\n",
       "    <tr>\n",
       "      <th>0</th>\n",
       "      <td>1Cor</td>\n",
       "      <td>1</td>\n",
       "      <td>1</td>\n",
       "      <td>Paulus vocatus Apostolus Jesu Christi per volu...</td>\n",
       "      <td>paulus vocatus apostolus jesu christi per volu...</td>\n",
       "      <td>[-0.055635616, -0.0065089255, -0.043669138, 0....</td>\n",
       "    </tr>\n",
       "    <tr>\n",
       "      <th>1</th>\n",
       "      <td>1Cor</td>\n",
       "      <td>1</td>\n",
       "      <td>2</td>\n",
       "      <td>ecclesiae Dei, quae est Corinthi, sanctificati...</td>\n",
       "      <td>ecclesiae dei quae est corinthi sanctificatis ...</td>\n",
       "      <td>[-0.019228704, -0.05051961, -0.024509165, -0.0...</td>\n",
       "    </tr>\n",
       "    <tr>\n",
       "      <th>2</th>\n",
       "      <td>1Cor</td>\n",
       "      <td>1</td>\n",
       "      <td>3</td>\n",
       "      <td>Gratia vobis, et pax a Deo Patre nostro, et Do...</td>\n",
       "      <td>gratia vobis et pax a deo patre nostro et domi...</td>\n",
       "      <td>[-0.03677308, -0.05688072, -0.00424547, -0.016...</td>\n",
       "    </tr>\n",
       "    <tr>\n",
       "      <th>3</th>\n",
       "      <td>1Cor</td>\n",
       "      <td>1</td>\n",
       "      <td>4</td>\n",
       "      <td>Gratias ago Deo meo semper pro vobis in gratia...</td>\n",
       "      <td>gratias ago deo meo semper pro vobis in gratia...</td>\n",
       "      <td>[-0.046626147, -0.06212013, -0.042238228, -0.0...</td>\n",
       "    </tr>\n",
       "    <tr>\n",
       "      <th>4</th>\n",
       "      <td>1Cor</td>\n",
       "      <td>1</td>\n",
       "      <td>5</td>\n",
       "      <td>quod in omnibus divites facti estis in illo, i...</td>\n",
       "      <td>quod in omnibus divites facti estis in illo in...</td>\n",
       "      <td>[-0.012506651, -0.031329703, -0.020543754, -0....</td>\n",
       "    </tr>\n",
       "    <tr>\n",
       "      <th>...</th>\n",
       "      <td>...</td>\n",
       "      <td>...</td>\n",
       "      <td>...</td>\n",
       "      <td>...</td>\n",
       "      <td>...</td>\n",
       "      <td>...</td>\n",
       "    </tr>\n",
       "    <tr>\n",
       "      <th>35804</th>\n",
       "      <td>Zach</td>\n",
       "      <td>14</td>\n",
       "      <td>17</td>\n",
       "      <td>Et erit: qui non ascenderit de familiis terrae...</td>\n",
       "      <td>et erit qui non ascenderit de familiis terrae ...</td>\n",
       "      <td>[0.0014634092, 0.003242624, 0.016612116, 0.027...</td>\n",
       "    </tr>\n",
       "    <tr>\n",
       "      <th>35805</th>\n",
       "      <td>Zach</td>\n",
       "      <td>14</td>\n",
       "      <td>18</td>\n",
       "      <td>Quod etsi familia Aegypti non ascenderit et no...</td>\n",
       "      <td>quod etsi familia aegypti non ascenderit et no...</td>\n",
       "      <td>[-0.032344513, 0.014963197, -0.03372779, 0.035...</td>\n",
       "    </tr>\n",
       "    <tr>\n",
       "      <th>35806</th>\n",
       "      <td>Zach</td>\n",
       "      <td>14</td>\n",
       "      <td>19</td>\n",
       "      <td>Hoc erit peccatum Aegypti, et hoc peccatum omn...</td>\n",
       "      <td>hoc erit peccatum aegypti et hoc peccatum omni...</td>\n",
       "      <td>[0.036506668, -0.009648186, -0.04503121, -0.00...</td>\n",
       "    </tr>\n",
       "    <tr>\n",
       "      <th>35807</th>\n",
       "      <td>Zach</td>\n",
       "      <td>14</td>\n",
       "      <td>20</td>\n",
       "      <td>In die illa, erit quod super frenum equi est, ...</td>\n",
       "      <td>in die illa erit quod super frenum equi est sa...</td>\n",
       "      <td>[-0.028904956, -0.03887993, -0.014923892, -0.0...</td>\n",
       "    </tr>\n",
       "    <tr>\n",
       "      <th>35808</th>\n",
       "      <td>Zach</td>\n",
       "      <td>14</td>\n",
       "      <td>21</td>\n",
       "      <td>Et erit omnis lebes in Jerusalem et in Juda sa...</td>\n",
       "      <td>et erit omnis lebes in jerusalem et in juda sa...</td>\n",
       "      <td>[-0.05448716, -0.05329275, -0.015322645, -0.00...</td>\n",
       "    </tr>\n",
       "  </tbody>\n",
       "</table>\n",
       "<p>35809 rows × 6 columns</p>\n",
       "</div>"
      ],
      "text/plain": [
       "       book  chapter  verse  \\\n",
       "0      1Cor        1      1   \n",
       "1      1Cor        1      2   \n",
       "2      1Cor        1      3   \n",
       "3      1Cor        1      4   \n",
       "4      1Cor        1      5   \n",
       "...     ...      ...    ...   \n",
       "35804  Zach       14     17   \n",
       "35805  Zach       14     18   \n",
       "35806  Zach       14     19   \n",
       "35807  Zach       14     20   \n",
       "35808  Zach       14     21   \n",
       "\n",
       "                                                   latin  \\\n",
       "0      Paulus vocatus Apostolus Jesu Christi per volu...   \n",
       "1      ecclesiae Dei, quae est Corinthi, sanctificati...   \n",
       "2      Gratia vobis, et pax a Deo Patre nostro, et Do...   \n",
       "3      Gratias ago Deo meo semper pro vobis in gratia...   \n",
       "4      quod in omnibus divites facti estis in illo, i...   \n",
       "...                                                  ...   \n",
       "35804  Et erit: qui non ascenderit de familiis terrae...   \n",
       "35805  Quod etsi familia Aegypti non ascenderit et no...   \n",
       "35806  Hoc erit peccatum Aegypti, et hoc peccatum omn...   \n",
       "35807  In die illa, erit quod super frenum equi est, ...   \n",
       "35808  Et erit omnis lebes in Jerusalem et in Juda sa...   \n",
       "\n",
       "                                             latin_clean  \\\n",
       "0      paulus vocatus apostolus jesu christi per volu...   \n",
       "1      ecclesiae dei quae est corinthi sanctificatis ...   \n",
       "2      gratia vobis et pax a deo patre nostro et domi...   \n",
       "3      gratias ago deo meo semper pro vobis in gratia...   \n",
       "4      quod in omnibus divites facti estis in illo in...   \n",
       "...                                                  ...   \n",
       "35804  et erit qui non ascenderit de familiis terrae ...   \n",
       "35805  quod etsi familia aegypti non ascenderit et no...   \n",
       "35806  hoc erit peccatum aegypti et hoc peccatum omni...   \n",
       "35807  in die illa erit quod super frenum equi est sa...   \n",
       "35808  et erit omnis lebes in jerusalem et in juda sa...   \n",
       "\n",
       "                                               embedding  \n",
       "0      [-0.055635616, -0.0065089255, -0.043669138, 0....  \n",
       "1      [-0.019228704, -0.05051961, -0.024509165, -0.0...  \n",
       "2      [-0.03677308, -0.05688072, -0.00424547, -0.016...  \n",
       "3      [-0.046626147, -0.06212013, -0.042238228, -0.0...  \n",
       "4      [-0.012506651, -0.031329703, -0.020543754, -0....  \n",
       "...                                                  ...  \n",
       "35804  [0.0014634092, 0.003242624, 0.016612116, 0.027...  \n",
       "35805  [-0.032344513, 0.014963197, -0.03372779, 0.035...  \n",
       "35806  [0.036506668, -0.009648186, -0.04503121, -0.00...  \n",
       "35807  [-0.028904956, -0.03887993, -0.014923892, -0.0...  \n",
       "35808  [-0.05448716, -0.05329275, -0.015322645, -0.00...  \n",
       "\n",
       "[35809 rows x 6 columns]"
      ]
     },
     "execution_count": 33,
     "metadata": {},
     "output_type": "execute_result"
    }
   ],
   "source": [
    "df"
   ]
  },
  {
   "cell_type": "code",
   "execution_count": 34,
   "metadata": {},
   "outputs": [],
   "source": [
    "df.to_parquet(\"../data/clem_vulgate_vectors.parquet\")"
   ]
  },
  {
   "cell_type": "code",
   "execution_count": 35,
   "metadata": {},
   "outputs": [
    {
     "data": {
      "text/html": [
       "<div>\n",
       "<style scoped>\n",
       "    .dataframe tbody tr th:only-of-type {\n",
       "        vertical-align: middle;\n",
       "    }\n",
       "\n",
       "    .dataframe tbody tr th {\n",
       "        vertical-align: top;\n",
       "    }\n",
       "\n",
       "    .dataframe thead th {\n",
       "        text-align: right;\n",
       "    }\n",
       "</style>\n",
       "<table border=\"1\" class=\"dataframe\">\n",
       "  <thead>\n",
       "    <tr style=\"text-align: right;\">\n",
       "      <th></th>\n",
       "      <th>book</th>\n",
       "      <th>chapter</th>\n",
       "      <th>verse</th>\n",
       "      <th>latin</th>\n",
       "      <th>latin_clean</th>\n",
       "      <th>embedding</th>\n",
       "    </tr>\n",
       "  </thead>\n",
       "  <tbody>\n",
       "    <tr>\n",
       "      <th>0</th>\n",
       "      <td>1Cor</td>\n",
       "      <td>1</td>\n",
       "      <td>1</td>\n",
       "      <td>Paulus vocatus Apostolus Jesu Christi per volu...</td>\n",
       "      <td>paulus vocatus apostolus jesu christi per volu...</td>\n",
       "      <td>[-0.055635616, -0.0065089255, -0.043669138, 0....</td>\n",
       "    </tr>\n",
       "    <tr>\n",
       "      <th>1</th>\n",
       "      <td>1Cor</td>\n",
       "      <td>1</td>\n",
       "      <td>2</td>\n",
       "      <td>ecclesiae Dei, quae est Corinthi, sanctificati...</td>\n",
       "      <td>ecclesiae dei quae est corinthi sanctificatis ...</td>\n",
       "      <td>[-0.019228704, -0.05051961, -0.024509165, -0.0...</td>\n",
       "    </tr>\n",
       "    <tr>\n",
       "      <th>2</th>\n",
       "      <td>1Cor</td>\n",
       "      <td>1</td>\n",
       "      <td>3</td>\n",
       "      <td>Gratia vobis, et pax a Deo Patre nostro, et Do...</td>\n",
       "      <td>gratia vobis et pax a deo patre nostro et domi...</td>\n",
       "      <td>[-0.03677308, -0.05688072, -0.00424547, -0.016...</td>\n",
       "    </tr>\n",
       "    <tr>\n",
       "      <th>3</th>\n",
       "      <td>1Cor</td>\n",
       "      <td>1</td>\n",
       "      <td>4</td>\n",
       "      <td>Gratias ago Deo meo semper pro vobis in gratia...</td>\n",
       "      <td>gratias ago deo meo semper pro vobis in gratia...</td>\n",
       "      <td>[-0.046626147, -0.06212013, -0.042238228, -0.0...</td>\n",
       "    </tr>\n",
       "    <tr>\n",
       "      <th>4</th>\n",
       "      <td>1Cor</td>\n",
       "      <td>1</td>\n",
       "      <td>5</td>\n",
       "      <td>quod in omnibus divites facti estis in illo, i...</td>\n",
       "      <td>quod in omnibus divites facti estis in illo in...</td>\n",
       "      <td>[-0.012506651, -0.031329703, -0.020543754, -0....</td>\n",
       "    </tr>\n",
       "    <tr>\n",
       "      <th>...</th>\n",
       "      <td>...</td>\n",
       "      <td>...</td>\n",
       "      <td>...</td>\n",
       "      <td>...</td>\n",
       "      <td>...</td>\n",
       "      <td>...</td>\n",
       "    </tr>\n",
       "    <tr>\n",
       "      <th>35804</th>\n",
       "      <td>Zach</td>\n",
       "      <td>14</td>\n",
       "      <td>17</td>\n",
       "      <td>Et erit: qui non ascenderit de familiis terrae...</td>\n",
       "      <td>et erit qui non ascenderit de familiis terrae ...</td>\n",
       "      <td>[0.0014634092, 0.003242624, 0.016612116, 0.027...</td>\n",
       "    </tr>\n",
       "    <tr>\n",
       "      <th>35805</th>\n",
       "      <td>Zach</td>\n",
       "      <td>14</td>\n",
       "      <td>18</td>\n",
       "      <td>Quod etsi familia Aegypti non ascenderit et no...</td>\n",
       "      <td>quod etsi familia aegypti non ascenderit et no...</td>\n",
       "      <td>[-0.032344513, 0.014963197, -0.03372779, 0.035...</td>\n",
       "    </tr>\n",
       "    <tr>\n",
       "      <th>35806</th>\n",
       "      <td>Zach</td>\n",
       "      <td>14</td>\n",
       "      <td>19</td>\n",
       "      <td>Hoc erit peccatum Aegypti, et hoc peccatum omn...</td>\n",
       "      <td>hoc erit peccatum aegypti et hoc peccatum omni...</td>\n",
       "      <td>[0.036506668, -0.009648186, -0.04503121, -0.00...</td>\n",
       "    </tr>\n",
       "    <tr>\n",
       "      <th>35807</th>\n",
       "      <td>Zach</td>\n",
       "      <td>14</td>\n",
       "      <td>20</td>\n",
       "      <td>In die illa, erit quod super frenum equi est, ...</td>\n",
       "      <td>in die illa erit quod super frenum equi est sa...</td>\n",
       "      <td>[-0.028904956, -0.03887993, -0.014923892, -0.0...</td>\n",
       "    </tr>\n",
       "    <tr>\n",
       "      <th>35808</th>\n",
       "      <td>Zach</td>\n",
       "      <td>14</td>\n",
       "      <td>21</td>\n",
       "      <td>Et erit omnis lebes in Jerusalem et in Juda sa...</td>\n",
       "      <td>et erit omnis lebes in jerusalem et in juda sa...</td>\n",
       "      <td>[-0.05448716, -0.05329275, -0.015322645, -0.00...</td>\n",
       "    </tr>\n",
       "  </tbody>\n",
       "</table>\n",
       "<p>35809 rows × 6 columns</p>\n",
       "</div>"
      ],
      "text/plain": [
       "       book  chapter  verse  \\\n",
       "0      1Cor        1      1   \n",
       "1      1Cor        1      2   \n",
       "2      1Cor        1      3   \n",
       "3      1Cor        1      4   \n",
       "4      1Cor        1      5   \n",
       "...     ...      ...    ...   \n",
       "35804  Zach       14     17   \n",
       "35805  Zach       14     18   \n",
       "35806  Zach       14     19   \n",
       "35807  Zach       14     20   \n",
       "35808  Zach       14     21   \n",
       "\n",
       "                                                   latin  \\\n",
       "0      Paulus vocatus Apostolus Jesu Christi per volu...   \n",
       "1      ecclesiae Dei, quae est Corinthi, sanctificati...   \n",
       "2      Gratia vobis, et pax a Deo Patre nostro, et Do...   \n",
       "3      Gratias ago Deo meo semper pro vobis in gratia...   \n",
       "4      quod in omnibus divites facti estis in illo, i...   \n",
       "...                                                  ...   \n",
       "35804  Et erit: qui non ascenderit de familiis terrae...   \n",
       "35805  Quod etsi familia Aegypti non ascenderit et no...   \n",
       "35806  Hoc erit peccatum Aegypti, et hoc peccatum omn...   \n",
       "35807  In die illa, erit quod super frenum equi est, ...   \n",
       "35808  Et erit omnis lebes in Jerusalem et in Juda sa...   \n",
       "\n",
       "                                             latin_clean  \\\n",
       "0      paulus vocatus apostolus jesu christi per volu...   \n",
       "1      ecclesiae dei quae est corinthi sanctificatis ...   \n",
       "2      gratia vobis et pax a deo patre nostro et domi...   \n",
       "3      gratias ago deo meo semper pro vobis in gratia...   \n",
       "4      quod in omnibus divites facti estis in illo in...   \n",
       "...                                                  ...   \n",
       "35804  et erit qui non ascenderit de familiis terrae ...   \n",
       "35805  quod etsi familia aegypti non ascenderit et no...   \n",
       "35806  hoc erit peccatum aegypti et hoc peccatum omni...   \n",
       "35807  in die illa erit quod super frenum equi est sa...   \n",
       "35808  et erit omnis lebes in jerusalem et in juda sa...   \n",
       "\n",
       "                                               embedding  \n",
       "0      [-0.055635616, -0.0065089255, -0.043669138, 0....  \n",
       "1      [-0.019228704, -0.05051961, -0.024509165, -0.0...  \n",
       "2      [-0.03677308, -0.05688072, -0.00424547, -0.016...  \n",
       "3      [-0.046626147, -0.06212013, -0.042238228, -0.0...  \n",
       "4      [-0.012506651, -0.031329703, -0.020543754, -0....  \n",
       "...                                                  ...  \n",
       "35804  [0.0014634092, 0.003242624, 0.016612116, 0.027...  \n",
       "35805  [-0.032344513, 0.014963197, -0.03372779, 0.035...  \n",
       "35806  [0.036506668, -0.009648186, -0.04503121, -0.00...  \n",
       "35807  [-0.028904956, -0.03887993, -0.014923892, -0.0...  \n",
       "35808  [-0.05448716, -0.05329275, -0.015322645, -0.00...  \n",
       "\n",
       "[35809 rows x 6 columns]"
      ]
     },
     "execution_count": 35,
     "metadata": {},
     "output_type": "execute_result"
    }
   ],
   "source": [
    "df"
   ]
  },
  {
   "cell_type": "code",
   "execution_count": 36,
   "metadata": {},
   "outputs": [],
   "source": [
    "WEAVIATE_URL = \"https://kmijkobrxw63wdclh5pgw.c0.us-east1.gcp.weaviate.cloud\"\n",
    "WEAVIATE_API_KEY  = \"zNipmxCSgbAThAjY8zfvm4aS7MN3b1PdzPdh\"\n",
    "collection_name = \"Vulgate\"\n",
    "\n",
    "client = weaviate.connect_to_weaviate_cloud(\n",
    "    cluster_url=WEAVIATE_URL,\n",
    "    auth_credentials=Auth.api_key(WEAVIATE_API_KEY),\n",
    ")\n",
    "\n",
    "if client.collections.exists(collection_name):  # In case we've created this collection before\n",
    "    client.collections.delete(collection_name)  # THIS WILL DELETE ALL DATA IN THE COLLECTION\n",
    "\n",
    "vulgate = client.collections.create(\n",
    "    name=collection_name,\n",
    "    properties=[\n",
    "        wvc.config.Property(\n",
    "            name=\"text\",\n",
    "            data_type=wvc.config.DataType.TEXT\n",
    "        ),\n",
    "        wvc.config.Property(\n",
    "            name=\"book\",\n",
    "            data_type=wvc.config.DataType.TEXT\n",
    "        ),\n",
    "        wvc.config.Property(\n",
    "            name=\"chapter\",\n",
    "            data_type=wvc.config.DataType.INT\n",
    "        ),\n",
    "        wvc.config.Property(\n",
    "            name=\"verse\",\n",
    "            data_type=wvc.config.DataType.INT\n",
    "        ),\n",
    "    ]\n",
    ")"
   ]
  },
  {
   "cell_type": "code",
   "execution_count": 38,
   "metadata": {},
   "outputs": [
    {
     "name": "stderr",
     "output_type": "stream",
     "text": [
      "Preparing data: 100%|██████████| 35809/35809 [00:00<00:00, 60819.73it/s]\n"
     ]
    }
   ],
   "source": [
    "# Prepare all the data rows first\n",
    "data_rows = []\n",
    "for _, row in tqdm(df.iterrows(), total=len(df), desc=\"Preparing data\"):\n",
    "    data_rows.append({\n",
    "        \"properties\": {\n",
    "            \"text\": row['latin'],\n",
    "            \"book\": row['book'],\n",
    "            \"chapter\": int(row['chapter']),\n",
    "            \"verse\": int(row['verse'])\n",
    "        },\n",
    "        \"vector\": row['embedding']\n",
    "    })"
   ]
  },
  {
   "cell_type": "code",
   "execution_count": 40,
   "metadata": {},
   "outputs": [
    {
     "name": "stderr",
     "output_type": "stream",
     "text": [
      "Inserting data:  65%|██████▌   | 23319/35809 [00:30<00:24, 512.84it/s] /Applications/anaconda3/envs/tap/lib/python3.10/site-packages/weaviate/warnings.py:303: ResourceWarning: Con004: The connection to Weaviate was not closed properly. This can lead to memory leaks.\n",
      "            Please make sure to close the connection using `client.close()`.\n",
      "  warnings.warn(\n",
      "/Applications/anaconda3/envs/tap/lib/python3.10/asyncio/selector_events.py:710: ResourceWarning: unclosed transport <_SelectorSocketTransport fd=93 read=idle write=<idle, bufsize=0>>\n",
      "  _warn(f\"unclosed transport {self!r}\", ResourceWarning, source=self)\n",
      "ResourceWarning: Enable tracemalloc to get the object allocation traceback\n",
      "Inserting data: 100%|██████████| 35809/35809 [00:55<00:00, 641.35it/s] \n"
     ]
    }
   ],
   "source": [
    "# Now perform the batch insertion\n",
    "with vulgate.batch.dynamic() as batch:\n",
    "    for data_row in tqdm(data_rows, desc=\"Inserting data\"):\n",
    "        batch.add_object(\n",
    "            properties=data_row['properties'],\n",
    "            vector=data_row['vector']\n",
    "        )"
   ]
  },
  {
   "cell_type": "code",
   "execution_count": 41,
   "metadata": {},
   "outputs": [],
   "source": [
    "from weaviate.classes.query import MetadataQuery\n"
   ]
  },
  {
   "cell_type": "code",
   "execution_count": 60,
   "metadata": {},
   "outputs": [],
   "source": [
    "query = \"Si quis uult post me uenire, abneget semetipsum et tollat crucem suam et sequatur me\"\n",
    "def find_similar(query, threshold):\n",
    "    query_vector = model.encode([query])[0]\n",
    "    response = vulgate.query.near_vector(\n",
    "        near_vector=query_vector,\n",
    "        limit=10,\n",
    "        return_metadata=MetadataQuery(distance=True)\n",
    "    )\n",
    "\n",
    "    for o in response.objects:\n",
    "        if o.metadata.distance < threshold:\n",
    "            print(o.properties[\"book\"], o.properties[\"chapter\"], o.properties[\"verse\"], \": \", o.properties[\"text\"])\n",
    "            print(o.metadata.distance)"
   ]
  },
  {
   "cell_type": "code",
   "execution_count": null,
   "metadata": {},
   "outputs": [],
   "source": []
  },
  {
   "cell_type": "code",
   "execution_count": null,
   "metadata": {},
   "outputs": [],
   "source": []
  },
  {
   "cell_type": "code",
   "execution_count": 67,
   "metadata": {},
   "outputs": [
    {
     "name": "stdout",
     "output_type": "stream",
     "text": [
      "Gn 1 1 :  In principio creavit Deus caelum et terram.\n",
      "0.28606468439102173\n",
      "Hbr 1 10 :  Et: Tu in principio, Domine, terram fundasti: et opera manuum tuarum sunt caeli.\n",
      "0.3451509475708008\n"
     ]
    }
   ],
   "source": [
    "query = \"initio Dominus fecit terras\"\n",
    "find_similar(query, threshold=.4)"
   ]
  },
  {
   "cell_type": "code",
   "execution_count": null,
   "metadata": {},
   "outputs": [],
   "source": []
  },
  {
   "cell_type": "code",
   "execution_count": null,
   "metadata": {},
   "outputs": [],
   "source": []
  },
  {
   "cell_type": "code",
   "execution_count": null,
   "metadata": {},
   "outputs": [],
   "source": []
  },
  {
   "cell_type": "code",
   "execution_count": null,
   "metadata": {},
   "outputs": [],
   "source": []
  },
  {
   "cell_type": "code",
   "execution_count": null,
   "metadata": {},
   "outputs": [],
   "source": []
  },
  {
   "cell_type": "code",
   "execution_count": null,
   "metadata": {},
   "outputs": [],
   "source": []
  },
  {
   "cell_type": "code",
   "execution_count": 46,
   "metadata": {},
   "outputs": [],
   "source": [
    "text = \"\"\"\n",
    "GESTA FRANCORUM\n",
    "LIBER I\n",
    "\n",
    "[i] Cum iam appropinquasset ille terminus quem dominus Iesus cotidie suis demonstrat fidelibus, specialiter in euangelio dicens: \"Si quis uult post me uenire, abneget semetipsum et tollat crucem suam et sequatur me\" facta est igitur motio ualida per uniuersas Galliarum regiones, ut si aliquis Deum studiose puroque corde et mente sequi desideraret, atque post ipsum crucem fideliter baiulare uellet, non pigritaretur Sancti Sepulchri uiam celerius arripere. Apostolicus namque Romanae sedis ultra montanas partes quantocius profectus est cum suis archiepiscopis, episcopis, abbatibus, et presbiteris, coepitque subtiliter sermocinari et predicare, dicens, ut si quis animam suam saluam facere uellet, non dubitaret humiliter uiam incipere Domini, ac si denariorum ei deesset copia, diuina ei satis daret misericordia. Ait namque domnus apostolicus 'Fratres, uos oportet multa pati pro nomine Christi, uidelicet miserias, paupertates, nuditates, persecutiones, egestates, infirmitates, fames, sites et alia huiusmodi, sicuti Dominus ait suis discipulis: \"Oportet uos pati multa pro nomine meo\", et: \"Nolite erubescere loqui ante facies hominum; ego uero dabo uobis os et eloquium\", ac deinceps: \"Persequetur uos larga retributio\". Cumque iam hic sermo paulatim per uniuersas regiones ac Galliarum patrias coepisset crebrescere, Franci audientes talia protinus in dextra crucem suere scapula, dicentes sese Christi unanimiter sequi uestigia, quibus de manu erant redempti tartarea. Iamiamque Galliae suis remotae sunt domibus.\n",
    "\n",
    "[ii] Fecerunt denique Galli tres partes. Vna pars Francorum in Hungariae intrauit regionem, scilicet Petrus Heremita, et dux Godefridus, et Balduinus frater eius, et Balduinus comes de Monte.  Isti potentissimi milites et alii plures quos ignoro uenerunt per uiam quam iamdudum Karolus Magnus mirificus rex Franciae aptari fecit usque Constantinopolim.\n",
    "\n",
    "Petrus uero supradictus primus uenit Constantinopolim in kalendis Augusti et cum eo maxima gens Alamannorum. Illic inuenit Lombardos et Longobardos et alios plures congregatos, quibus imperator iusserat dari mercatum, sicuti erat in ciuitate, dixitque illis 'Nolite transmeare Brachium, donec ueniat maxima Christianorum uirtus, quoniam uos tanti non estis, ut cum Turcis preliari ualeatis. Ipsique Christiani nequiter deducebant se, quia palatia urbis sternebant et ardebant, et auferebant plumbum quo ecclesiae erant coopertae et uendebant Grecis. Vnde imperator iratus est iussitque eos transmeare Brachium. Postquam transfretauerunt, non cessabant agere omnia mala, comburentes et deuastantes domos et ecclesias. Tandem peruenerunt Nicomediam, ubi diuisi sunt Lombardi et Longobardi, et Alamanni a Francis, quia Franci tumebant superbia. Elegerunt Lombardi et Longobardi seniorem super se, cui nomen Rainoldus, Alamanni similiter. Et intrauerunt in Romaniam et per quatuor dies ierunt ultra Nicenam urbem inueneruntque quoddam castrum cui nomen Exerogorgo, quod erat uacuum gente. Et apprehenderunt illud, in qua inuenerunt satis frumenti et uini et carnis, et omnium bonorum abundantiam. Audientes itaque Turci quod Christiani essent in castro, uenerunt obsidere illud. Ante portam castri erat puteus, et ad pedem castri fons uiuus, iuxta quem exiit Rainaldus insidiari Turcos. Venientes uero Turci in festo sancti Michahelis, inuenerunt Rainaldum et qui cum eo erant, occideruntque Turci multos ex eis. Alii fugerunt in castrum. Quod confestim Turci obsederunt, eisque aquam abstulerunt. Fueruntque nostri in tanta afflictione sitis, ut flebotomarent suos equos et asinos, quorum sanguinem bibebant. Alii mittebant zonas atque panniculos in piscinam, et inde exprimebant aquam in os suum. Alii mingebant in pugillo alterius, et bibebant. Alii fodiebant humidam terram, et supinabant se, terramque sternebant super pectora sua, pro nimia ariditate sitis. Episcopi uero et presbiteri confortabant nostros et commonebant ne deficerent. Haec tribulatio fuit per octo dies. Denique dominus Alamannorum concordatus est cum Turcis, ut traderet socios illis, et fingens se exire ad bellum, fugit ad illos et multi cum eo. Illi autem qui Deum negare noluerunt, capitalem sententiam susceperunt. Alios quos ceperunt uiuos adinuicem diuiserunt quasi oues. Alios miserunt ad signum et sagittabant eos; alios uendebant et donabant quasi animalia. Quidam conducebant suos in domum suam, alios in Corosanum, alios in Antiochiam, alios in Aleph, aut ubi ipsi manebant. Isti primo felix acceperunt martirium pro nomine Domini Iesu.\n",
    "\n",
    "Audientes denique Turci quod Petrus Heremita et Guualterius Sinehabere fuissent in Cyuito, quae supra Nicenam urbem est, uenerunt illuc cum magno gaudio ut occiderent illos et eos qui cum ipsis erant. Cumque uenissent obuiauerunt Guualterio cum suis, quos Turci mox occiderunt. Petrus uero Heremita paulo ante ierat Constantinopolim, eo quod nequibat refrenare illam diuersam gentem, quae nec illum nec uerba eius audire uolebat. Irruentes uero Turci super eos occiderunt multos ex eis; alios inuenerunt dormientes, alios nudos, quos onmes necauerunt, cum quibus quemdam sacerdotem inuenerunt missam celebrantem, quem statim super altare martirizauerunt. Illi uero qui euadere potuerunt Cyuito fugerunt; alii precipitabant se in mare, alii latebant in siluis et montanis. Turci uero persequentes illos in castrum adunauerunt ligna, ut eos comburerent cum castro. Christiani igitur qui in castro erant miserunt ignem in ligna congregata, et uersus ignis in Turcos quosdam eorum concremauit, sed ab illo incendio Deus nostros tunc liberauit. Tandem Turci apprehenderunt illos uiuos, diuiseruntque illos sicut prius fecerant alios, et disperserunt illos per uniuersas regiones has, alios in Corosanum, alios in Persidem. Hoc totum est factum in mense Octobri. Audiens imperator quod Turci sic dissipassent nostros, gauisus est ualde, et mandauit fecitque eos Brachium transmeare. Postquam ultra fuerunt, comparauit omnia arma eorum.\n",
    "\n",
    "[iii] Secunda uero pars intrauit in Sclauiniae partes, scilicet comes de Sancto Egidio Raimundus et Podiensis episcopus. Tertia autem pars per antiquam Romae uiam uenit. In hac parte fuerunt Boamundus, et Richardus de Principatu, Rotbertus comes Flandrensis, Rotbertus Nortmannus, Hugo Magnus, Eurardus de Puisatio, Achardus de Monte Merloi, Isuardus de Musone, et alii plures. Deinde uenerunt ad portum Brandosim aut Barim siue Otrentum. Hugo denique Magnus et Willelmus Marchisi filius intrauerunt mare ad portum Bari, et transfretantes uenerunt Durachium. Audiens uero dux illius loci hos prudentissimos uiros illic esse applicatos, mox mala cogitatio cor eius tetigit, illosque apprehendit, ac iussit Constantinopolim imperatori caute duci, quo ei fidelitatem facerent.\n",
    "\n",
    "Dux denique Godefridus primus omnium seniorum Constantinopolim uenit cum magno exercitu, duobus diebus ante Domini nostri Natale, et hospitatus est extra urbem, donec iniquus imperator iussit eum hospitari in burgo urbis. Cumque fuisset hospitatus dux, secure mittebat armigeros suos per singulos dies, ut paleas et alia equis necessaria asportarent. Et cum putarent exire fiducialiter quo uellent, iniquus imperator Alexius imperauit Turcopolis et Pinzinacis inuadere illos et occidere. Balduinus itaque frater ducis haec audiens misit se in insidiis, tandemque inuenit eos occidentes gentem suam, eosque inuasit forti animo, ac Deo iuuante superauit eos. Et apprehendens sexaginta ex eis, partem occidit, partem duci fratri suo presentauit. Quod cum audisset imperator, ualde iratus est. Videns uero dux inde iratum imperatorem, exiit cum suis de burgo et hospitatus est extra urbem. Sero autem facto, infelix imperator iussit suis exercitibus inuadere ducem cum Christi gente. Quos dux persequens inuictus cum Christi militibus septem ex illis occidit, persequendo alios usque ad portam ciuitatis. Reuersusque dux ad sua tentoria mansit inibi per quinque dies, donec pactum iniit cum imperatore, dixitque illi imperator ut transfretaret Brachium sancti Georgii, permisitque eum habere omnem mercatum ibi sicut est Constantinopoli; et pauperibus elemosinam erogare, unde potuissent uiuere.\n",
    "\n",
    "[iiii] At bellipotens Boamundus qui erat in obsidione Malfi, Scafardi Pontis, audiens uenisse innumerabilem gentem Christianorum de Francis, ituram ad Domini Sepulchrum, et paratam ad prelium contra gentem paganorum, coepit diligenter inquirere quae arma pugnandi haec gens deferat, et quam ostensionem Christi in uia portet, uel quod signum in certamine sonet. Cui per ordinem haec dicta sunt: 'Deferunt arma ad bellum congrua, in dextra uel inter utrasque scapulas crucem Christi baiulant; sonum uero \"Deus uult, Deus uult, Deus uult!\" una uoce conclamant. Mox Sancto commotus Spiritu, iussit preciosissimum pallium quod apud se habebat incidi, totumque statim in cruces expendit. Coepit tunc ad eum uehementer concurrere maxima pars militum qui erant in obsidione illa, adeo ut Rogerius comes pene solus remanserit, reuersusque Siciliam dolebat et merebat quandoque gentem amittere suam. Denique reuersus iterum in terram suam dominus Boamundus diligenter honestauit sese ad incipiendum Sancti Sepulchri iter. Tandem transfretauit mare cum suo exercitu, et cum eo Tancredus Marchisi filius, et Richardus princeps, ac Rainulfus frater eius, et Rotbertus de Ansa, et Hermannus de Canni, et Rotbertus de Surda Valle, et Robertus filius Tostani, et Hunfredus filius Radulfi, et Ricardus filius comitis Rainulfi, et comes de Russignolo cum fratribus suis, et Boello Carnotensis, et Alberedus de Cagnano, et Hunfredus de Monte Scabioso. Hi omnes transfretauerunt ad Boamundi famulatum, et applicuerunt Bulgariae partibus; ubi inuenerunt nimiam abundantiam frumenti et uini et alimentorum corporis. Deinde descendentes in uallem de Andronopoli; expectauerunt gentem suam, donec omnes pariter transfretassent. Tunc Boamundus ordinauit concilium cum gente sua, confortans et monens omnes ut boni et humiles essent; et ne depredarentur terram istam quia Christianorum erat, et nemo acciperet nisi quod ei sufficeret ad edendum.\n",
    "\n",
    "Tunc exeuntes inde, uenerunt per nimiam plenitudinem de uilla in uillam, de ciuitate in ciuitatem, de castello in castellum, quousque peruenimus Castoriam; ibique Natiuitatem Domini solemniter celebrauimus; fuimusque ibi per plures dies, et quesiuimus mercatum, sed ipsi noluerunt nobis assentire, eo quod ualde timebant nos, non putantes nos esse peregrinos, sed uelle populari terram et occidere illos. Quapropter apprehendebamus boues, equos et asinos, et omnia quae inueniebamus. Egressi de Castoria, intrauimus Palagoniam, in qua erat quoddam hereticorum castrum. Quod undique aggressi sumus, moxque nostro succubuit imperio. Accenso itaque igne, combussimus castrum cum habitatoribus suis. Postea peruenimus ad flumen Bardarum. Denique perrexit dominus Boamundus ultracum sua gente, sed non tota. Remansit enim ibi comes de Russignolo, cum fratribus suis. Venit exercitus imperatoris, et inuasit comitem cum fratribus suis, et omnes qui erant cum eis. Quod audiens Tancredus rediit retro, et proiectus in flumen natando peruenit ad alios, et duo milia miserunt se in flumen sequendo Tancredum. Tandem inuenerunt Turcopulos et Pinzinacos dimicantes cum nostris. Quos repente fortiter inuaserunt, et prudenter eos superauerunt. Et apprehenderunt plures ex illis, et duxerunt illos ligatos ante domini Boamundi presentiam. Quibus ait ipse, 'Quare miseri occiditis gentem Christi et meam? Ego cum uestro imperatore nullam altercationem habeo. Qui responderunt: 'Nos nequimus aliud agere. In roga imperatoris locati sumus, et quicquid nobis imperat nos oportet implere. Quos Boamundus impunitos permisit abire. Hoc bellum factum est in quarta feria, quae est caput ieiunii. Per omnia benedictus Deus. Amen.\n",
    "\"\"\""
   ]
  },
  {
   "cell_type": "code",
   "execution_count": 47,
   "metadata": {},
   "outputs": [],
   "source": [
    "import spacy"
   ]
  },
  {
   "cell_type": "code",
   "execution_count": 48,
   "metadata": {},
   "outputs": [
    {
     "name": "stderr",
     "output_type": "stream",
     "text": [
      "/Applications/anaconda3/envs/tap/lib/python3.10/site-packages/transformers/utils/generic.py:309: FutureWarning: `torch.utils._pytree._register_pytree_node` is deprecated. Please use `torch.utils._pytree.register_pytree_node` instead.\n",
      "  _torch_pytree._register_pytree_node(\n"
     ]
    },
    {
     "data": {
      "text/plain": [
       "<spacy.pipeline.sentencizer.Sentencizer at 0x4725f1b80>"
      ]
     },
     "execution_count": 48,
     "metadata": {},
     "output_type": "execute_result"
    }
   ],
   "source": [
    "nlp = spacy.blank(\"en\")\n",
    "nlp.add_pipe(\"sentencizer\")"
   ]
  },
  {
   "cell_type": "code",
   "execution_count": 49,
   "metadata": {},
   "outputs": [],
   "source": [
    "sentences = [sent.text for sent in nlp(text).sents]"
   ]
  },
  {
   "cell_type": "code",
   "execution_count": 50,
   "metadata": {},
   "outputs": [
    {
     "data": {
      "text/plain": [
       "93"
      ]
     },
     "execution_count": 50,
     "metadata": {},
     "output_type": "execute_result"
    }
   ],
   "source": [
    "len(sentences)"
   ]
  },
  {
   "cell_type": "code",
   "execution_count": 54,
   "metadata": {},
   "outputs": [
    {
     "name": "stdout",
     "output_type": "stream",
     "text": [
      "MATCH: \n",
      "GESTA FRANCORUM\n",
      "LIBER I\n",
      "\n",
      "[i] Cum iam appropinquasset ille terminus quem dominus Iesus cotidie suis demonstrat fidelibus, specialiter in euangelio dicens: \"Si quis uult post me uenire, abneget semetipsum et tollat crucem suam et sequatur me\" facta est igitur motio ualida per uniuersas Galliarum regiones, ut si aliquis Deum studiose puroque corde et mente sequi desideraret, atque post ipsum crucem fideliter baiulare uellet, non pigritaretur Sancti Sepulchri uiam celerius arripere.\n",
      "0.39440619945526123\n",
      "{'chapter': 16, 'text': 'Tunc Jesus dixit discipulis suis: Si quis vult post me venire, abneget semetipsum, et tollat crucem suam, et sequatur me.', 'book': 'Mt', 'verse': 24}\n",
      "MATCH: Et apprehenderunt illud, in qua inuenerunt satis frumenti et uini et carnis, et omnium bonorum abundantiam.\n",
      "0.35843056440353394\n",
      "{'text': 'Congere frusta ejus in eam, omnem partem bonam, femur et armum, electa et ossibus plena.', 'chapter': 24, 'book': 'Ez', 'verse': 4}\n",
      "MATCH: Fueruntque nostri in tanta afflictione sitis, ut flebotomarent suos equos et asinos, quorum sanguinem bibebant.\n",
      "0.33196336030960083\n",
      "{'text': 'Denique hoc ordinant, ut interficiant pecora sua, et bibant sanguinem eorum:', 'chapter': 11, 'book': 'Jdt', 'verse': 11}\n",
      "MATCH: Fueruntque nostri in tanta afflictione sitis, ut flebotomarent suos equos et asinos, quorum sanguinem bibebant.\n",
      "0.36919641494750977\n",
      "{'chapter': 23, 'text': 'Et insanivit libidine super concubitum eorum, quorum carnes sunt ut carnes asinorum, et sicut fluxus equorum fluxus eorum.', 'book': 'Ez', 'verse': 20}\n",
      "MATCH: Alii mingebant in pugillo alterius, et bibebant.\n",
      "0.3847709894180298\n",
      "{'text': 'Alii terminos transtulerunt; diripuerunt greges, et paverunt eos.', 'chapter': 24, 'book': 'Job', 'verse': 2}\n",
      "MATCH: Alii fodiebant humidam terram, et supinabant se, terramque sternebant super pectora sua, pro nimia ariditate sitis.\n",
      "0.39511334896087646\n",
      "{'text': 'qui praecipit nivi ut descendat in terram, et hiemis pluviis, et imbri fortitudinis suae;', 'chapter': 37, 'book': 'Job', 'verse': 6}\n",
      "MATCH: Alios miserunt ad signum et sagittabant eos; alios uendebant et donabant quasi animalia.\n",
      "0.3876781463623047\n",
      "{'text': 'Alii terminos transtulerunt; diripuerunt greges, et paverunt eos.', 'chapter': 24, 'book': 'Job', 'verse': 2}\n",
      "MATCH: Isti primo felix acceperunt martirium pro nomine Domini Iesu.\n",
      "0.33561861515045166\n",
      "{'text': 'His auditis, baptizati sunt in nomine Domini Jesu.', 'chapter': 19, 'book': 'Act', 'verse': 5}\n",
      "MATCH: Isti primo felix acceperunt martirium pro nomine Domini Iesu.\n",
      "0.3412128686904907\n",
      "{'text': 'hominibus qui tradiderunt animas suas pro nomine Domini nostri Jesu Christi.', 'chapter': 15, 'book': 'Act', 'verse': 26}\n",
      "MATCH: Isti primo felix acceperunt martirium pro nomine Domini Iesu.\n",
      "0.3764667510986328\n",
      "{'text': 'Deo autem gratias, qui dedit nobis victoriam per Dominum nostrum Jesum Christum.', 'chapter': 15, 'book': '1Cor', 'verse': 57}\n",
      "MATCH: Isti primo felix acceperunt martirium pro nomine Domini Iesu.\n",
      "0.37759929895401\n",
      "{'chapter': 8, 'text': 'nondum enim in quemquam illorum venerat, sed baptizati tantum erant in nomine Domini Jesu.', 'book': 'Act', 'verse': 16}\n",
      "MATCH: Illi uero qui euadere potuerunt Cyuito fugerunt; alii precipitabant se in mare, alii latebant in siluis et montanis.\n",
      "0.398434579372406\n",
      "{'text': 'Aliae quoque septem emergebant de flumine, fœdae confectaeque macie: et pascebantur in ipsa amnis ripa in locis virentibus:', 'chapter': 41, 'book': 'Gn', 'verse': 3}\n",
      "MATCH: Videns uero dux inde iratum imperatorem, exiit cum suis de burgo et hospitatus est extra urbem.\n",
      "0.37263405323028564\n",
      "{'text': 'Videns autem Zambri quod expugnanda esset civitas, ingressus est palatium, et succendit se cum domo regia: et mortuus est', 'chapter': 16, 'book': '3Rg', 'verse': 18}\n",
      "MATCH: Videns uero dux inde iratum imperatorem, exiit cum suis de burgo et hospitatus est extra urbem.\n",
      "0.38322508335113525\n",
      "{'text': 'Rex autem cum audisset, iratus est: et missis exercitibus suis, perdidit homicidas illos, et civitatem illorum succendit.', 'chapter': 22, 'book': 'Mt', 'verse': 7}\n",
      "MATCH: Hi omnes transfretauerunt ad Boamundi famulatum, et applicuerunt Bulgariae partibus; ubi inuenerunt nimiam abundantiam frumenti et uini et alimentorum corporis.\n",
      "0.3909703493118286\n",
      "{'text': 'reversi sunt, inquam, omnes Judaei de universis locis ad quae profugerant, et venerunt in terram Juda ad Godoliam in Masphath, et collegerunt vinum et messem multam nimis.', 'chapter': 40, 'book': 'Jr', 'verse': 12}\n",
      "MATCH: Quapropter apprehendebamus boues, equos et asinos, et omnia quae inueniebamus.\n",
      "0.38539761304855347\n",
      "{'text': 'Omnia subjecisti sub pedibus ejus, oves et boves universas, insuper et pecora campi,', 'chapter': 8, 'book': 'Ps', 'verse': 8}\n",
      "MATCH: Quapropter apprehendebamus boues, equos et asinos, et omnia quae inueniebamus.\n",
      "0.3859676122665405\n",
      "{'text': 'bestiae, et universa pecora; serpentes, et volucres pennatae;', 'chapter': 148, 'book': 'Ps', 'verse': 10}\n",
      "MATCH: Quapropter apprehendebamus boues, equos et asinos, et omnia quae inueniebamus.\n",
      "0.3921077251434326\n",
      "{'text': 'Omnis enim natura bestiarum, et volucrum, et serpentium, et ceterorum domantur, et domita sunt a natura humana:', 'chapter': 3, 'book': 'Jac', 'verse': 7}\n",
      "MATCH: Quapropter apprehendebamus boues, equos et asinos, et omnia quae inueniebamus.\n",
      "0.3994596004486084\n",
      "{'chapter': 46, 'text': 'et sunt viri pastores ovium, curamque habent alendorum gregum: pecora sua, et armenta, et omnia quae habere potuerunt, adduxerunt secum.', 'book': 'Gn', 'verse': 32}\n",
      "MATCH: Venit exercitus imperatoris, et inuasit comitem cum fratribus suis, et omnes qui erant cum eis.\n",
      "0.318642258644104\n",
      "{'text': 'Et iratus est rex, ut haec audivit: et convocavit omnes amicos suos, et principes exercitus sui, et eos qui super equites erant:', 'chapter': 6, 'book': '1Mcc', 'verse': 28}\n",
      "MATCH: Venit exercitus imperatoris, et inuasit comitem cum fratribus suis, et omnes qui erant cum eis.\n",
      "0.34424614906311035\n",
      "{'chapter': 13, 'text': 'Surrexit itaque rex, et scidit vestimenta sua, et cecidit super terram: et omnes servi illius qui assistebant ei, sciderunt vestimenta sua.', 'book': '2Rg', 'verse': 31}\n",
      "MATCH: Venit exercitus imperatoris, et inuasit comitem cum fratribus suis, et omnes qui erant cum eis.\n",
      "0.36090171337127686\n",
      "{'text': 'Venit itaque rex, et universus populus cum eo lassus, et refocillati sunt ibi.', 'chapter': 16, 'book': '2Rg', 'verse': 14}\n",
      "MATCH: Venit exercitus imperatoris, et inuasit comitem cum fratribus suis, et omnes qui erant cum eis.\n",
      "0.3754517436027527\n",
      "{'text': 'Sed cum venissent ejus duces ac tribuni, et universi majores exercitus regis Assyriorum, dixerunt cubiculariis:', 'chapter': 14, 'book': 'Jdt', 'verse': 11}\n",
      "MATCH: Venit exercitus imperatoris, et inuasit comitem cum fratribus suis, et omnes qui erant cum eis.\n",
      "0.3805472254753113\n",
      "{'text': 'Exsurgens autem princeps sacerdotum, et omnes qui cum illo erant (quae est haeresis sadducaeorum), repleti sunt zelo:', 'chapter': 5, 'book': 'Act', 'verse': 17}\n",
      "MATCH: Venit exercitus imperatoris, et inuasit comitem cum fratribus suis, et omnes qui erant cum eis.\n",
      "0.3808485269546509\n",
      "{'chapter': 29, 'text': 'Cumque finita esset oblatio, incurvatus est rex, et omnes qui erant cum eo, et adoraverunt.', 'book': '2Par', 'verse': 29}\n",
      "MATCH: Venit exercitus imperatoris, et inuasit comitem cum fratribus suis, et omnes qui erant cum eis.\n",
      "0.3816256523132324\n",
      "{'text': 'Milites autem duxerunt eum in atrium praetorii, et convocant totam cohortem,', 'chapter': 15, 'book': 'Mc', 'verse': 16}\n",
      "MATCH: Venit exercitus imperatoris, et inuasit comitem cum fratribus suis, et omnes qui erant cum eis.\n",
      "0.38323140144348145\n",
      "{'chapter': 25, 'text': 'Pharaoni regi Aegypti, et servis ejus, et principibus ejus, et omni populo ejus:', 'book': 'Jr', 'verse': 19}\n",
      "MATCH: Venit exercitus imperatoris, et inuasit comitem cum fratribus suis, et omnes qui erant cum eis.\n",
      "0.38777005672454834\n",
      "{'text': 'vocavitque Johanan filium Caree, et omnes principes bellatorum qui erant cum eo, et universum populum, a minimo usque ad magnum.', 'chapter': 42, 'book': 'Jr', 'verse': 8}\n",
      "MATCH: Venit exercitus imperatoris, et inuasit comitem cum fratribus suis, et omnes qui erant cum eis.\n",
      "0.38928496837615967\n",
      "{'text': 'Et venit cum parentibus, et filiis, et universis cognatis suis.', 'chapter': 13, 'book': 'Dn', 'verse': 30}\n",
      "MATCH: Et apprehenderunt plures ex illis, et duxerunt illos ligatos ante domini Boamundi presentiam.\n",
      "0.35367047786712646\n",
      "{'text': 'Et reliquit eos ante faciem regis Moab: manseruntque apud eum cunctis diebus quibus David fuit in praesidio.', 'chapter': 22, 'book': '1Rg', 'verse': 4}\n",
      "MATCH: Quibus ait ipse, 'Quare miseri occiditis gentem Christi et meam?\n",
      "0.3834805488586426\n",
      "{'chapter': 1, 'text': 'dicens: Quid nobis et tibi, Jesu Nazarene? venisti perdere nos? scio qui sis, Sanctus Dei.', 'book': 'Mc', 'verse': 24}\n",
      "MATCH: Quibus ait ipse, 'Quare miseri occiditis gentem Christi et meam?\n",
      "0.3867422342300415\n",
      "{'text': 'dicentes: Prophetiza nobis Christe, quis est qui te percussit?', 'chapter': 26, 'book': 'Mt', 'verse': 68}\n",
      "MATCH: Quibus ait ipse, 'Quare miseri occiditis gentem Christi et meam?\n",
      "0.38699716329574585\n",
      "{'text': 'Dicit illis Jesus: Vos autem, quem me esse dicitis?', 'chapter': 16, 'book': 'Mt', 'verse': 15}\n",
      "MATCH: Quibus ait ipse, 'Quare miseri occiditis gentem Christi et meam?\n",
      "0.3945549726486206\n",
      "{'chapter': 11, 'text': 'At ille: Quid, inquit aemularis pro me? quis tribuat ut omnis populus prophetet, et det eis Dominus spiritum suum?', 'book': 'Nm', 'verse': 29}\n",
      "MATCH: Quibus ait ipse, 'Quare miseri occiditis gentem Christi et meam?\n",
      "0.3994870185852051\n",
      "{'text': 'dicens: Quid vobis videtur de Christo? cujus filius est? Dicunt ei: David.', 'chapter': 22, 'book': 'Mt', 'verse': 42}\n",
      "MATCH: Per omnia benedictus Deus.\n",
      "0.3244122862815857\n",
      "{'text': 'Gratia cum omnibus vobis. Amen.', 'chapter': 13, 'book': 'Hbr', 'verse': 25}\n",
      "MATCH: Per omnia benedictus Deus.\n",
      "0.3302702307701111\n",
      "{'text': 'Per omnia benedictus Deus, qui tradidit impios.', 'chapter': 1, 'book': '2Mcc', 'verse': 17}\n",
      "MATCH: Per omnia benedictus Deus.\n",
      "0.34274590015411377\n",
      "{'text': 'Deus autem pacis sit cum omnibus vobis. Amen.', 'chapter': 15, 'book': 'Rom', 'verse': 33}\n",
      "MATCH: Per omnia benedictus Deus.\n",
      "0.3881351947784424\n",
      "{'text': 'Omnis spiritus laudet Dominum ! Alleluja.]', 'chapter': 150, 'book': 'Ps', 'verse': 6}\n",
      "MATCH: Per omnia benedictus Deus.\n",
      "0.39855778217315674\n",
      "{'text': 'Gratias ago Deo meo in omni memoria vestri,', 'chapter': 1, 'book': 'Phlp', 'verse': 3}\n"
     ]
    }
   ],
   "source": [
    "for sent in sentences:\n",
    "    query_vector = model.encode([sent])[0]\n",
    "    response = vulgate.query.near_vector(\n",
    "        near_vector=query_vector,\n",
    "        limit=10,\n",
    "        return_metadata=MetadataQuery(distance=True)\n",
    "    )\n",
    "\n",
    "    for o in response.objects:\n",
    "        if o.metadata.distance < .4:\n",
    "            print(F\"MATCH: {sent}\")\n",
    "            print(o.metadata.distance)\n",
    "            print(o.properties)"
   ]
  },
  {
   "cell_type": "code",
   "execution_count": null,
   "metadata": {},
   "outputs": [],
   "source": []
  }
 ],
 "metadata": {
  "kernelspec": {
   "display_name": "tap",
   "language": "python",
   "name": "python3"
  },
  "language_info": {
   "codemirror_mode": {
    "name": "ipython",
    "version": 3
   },
   "file_extension": ".py",
   "mimetype": "text/x-python",
   "name": "python",
   "nbconvert_exporter": "python",
   "pygments_lexer": "ipython3",
   "version": "3.10.14"
  }
 },
 "nbformat": 4,
 "nbformat_minor": 2
}
